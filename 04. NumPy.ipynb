{
 "cells": [
  {
   "attachments": {},
   "cell_type": "markdown",
   "metadata": {},
   "source": [
    "# NumPy Operations\n",
    "NumPy is a Python package that provides lots of the underlying functionality of pandas. In fact we encounter NumPy every time we see a NaN value. Pandas uses NumPy under-the-hood to optimise several of its internal computations too.\n",
    "\n",
    "Before we start, let's load `pandas`, `numpy` and our dataset.  Notice that NumPy also has a preferred shortform."
   ]
  },
  {
   "cell_type": "code",
   "execution_count": null,
   "metadata": {},
   "outputs": [],
   "source": [
    "import numpy as np\n",
    "import pandas as pd\n"
   ]
  },
  {
   "cell_type": "code",
   "execution_count": null,
   "metadata": {},
   "outputs": [],
   "source": [
    "df = pd.read_CSV('TSLA_clean.csv')\n",
    "df.Date = pd.to_datetime(df.Date)\n",
    "df.set_index('Date', inplace=True)\n",
    "## Data Frame Clean Up"
   ]
  },
  {
   "attachments": {},
   "cell_type": "markdown",
   "metadata": {},
   "source": [
    "## Log Returns\n",
    "\n",
    "Logarithmic returns are often used in finance due to their useful statistical properties. They are **additive over time**, making them ideal for analysing historical returns across multiple periods.\n",
    "\n",
    "Consider the following example:\n",
    "\n",
    "* You invest £100\n",
    "* On the first day, the simple return is +10% → your investment grows to £110\n",
    "* On the second day, the simple return is -10% → your investment drops to £99\n",
    "\n",
    "Using simple returns, you might assume the net change is 0%, since +10% and -10% appear to cancel out. But in reality, you've lost £1 — a **-1%** return overall.\n",
    "\n",
    "Logarithmic returns correctly account for compounding. Here's how:\n",
    "\n",
    "* Day 1: $\\ln(110 / 100) ≈ 0.09531$\n",
    "* Day 2: $\\ln(99 / 110) ≈ -0.10536$\n",
    "* Total log return: $0.09531 + (-0.10536) = -0.01005$\n",
    "\n",
    "To convert back to a simple return:\n",
    "$e^{-0.01005} - 1 ≈ -0.01$ → **-1%**, matching the actual loss.\n",
    "\n",
    "The formula for calculating log returns is:\n",
    "\n",
    "$\\ln\\left(\\frac{{\\text{price}_{\\text{current}}}}{{\\text{price}_{\\text{previous}}}}\\right)$\n",
    "\n",
    "To compute daily log returns in code, use `.shift()` to get the previous day's price, then apply NumPy’s `log` function.\n"
   ]
  },
  {
   "cell_type": "code",
   "execution_count": null,
   "metadata": {},
   "outputs": [],
   "source": [
    "df['PrevClose'] = df.Close.shift()\n",
    "df['LogReturns'] = np.log(df.Close / df.PrevClose)\n",
    "## Created a new column for Previous Close in order to facilitate easier calculations\n",
    "## 'LogReturns' is the application of the formula\n",
    "\n",
    "df['SimpleReturns'] = df.Close.pct_change()\n",
    "np.log(1+df.SimpleReturns)\n",
    "## Calculating LogReturns from SimpleReturns\n"
   ]
  },
  {
   "attachments": {},
   "cell_type": "markdown",
   "metadata": {},
   "source": [
    "### Exercise: Cumulatively Comparing\n",
    "\n",
    "The sum of the log returns is the natural logarithm of the cumulative return. To calculate the cumulative simple return from the log returns, sum the log returns over the period and exponentiate (NumPy has an `exp` function for this) the sum.\n",
    "\n",
    "Calculate the cumulative return based on the simple returns, and then compare this to the cumulative simple return calculated from the log return."
   ]
  },
  {
   "cell_type": "code",
   "execution_count": null,
   "metadata": {},
   "outputs": [],
   "source": [
    "## YOUR CODE GOES HERE\n",
    "df['DailyReturn'] = df.Close.pct_change()\n",
    "df[\"CumulativeReturn\"] = (1 + df[\"DailyReturn\"]).prod() - 1\n",
    "print(f'Cumulative Simple Returns is {CumulativeReturn}')\n",
    "## Derived from the formula Rtotal = 1 + Product of all R -1\n",
    "df['CumulativeLogReturns'] = np.exp(df.LogReturns.sum()) - 1\n",
    "print(f'Cumulative Logarithmic Returns is {CumulativeLogReturns}')\n",
    "## Derived from the formula LogReturnTotal = e^Rsum - 1\n"
   ]
  },
  {
   "attachments": {},
   "cell_type": "markdown",
   "metadata": {},
   "source": [
    "## Other useful functions\n",
    "\n",
    "Another useful NumPy function is `np.where()`, often used for populating columns with a signal or indicator, depending on if a condition is met. Let's create a column to colour code our trading days. Days will have a different colour depening on if the market closes higher (green) or lower (red) than the opening."
   ]
  },
  {
   "cell_type": "code",
   "execution_count": null,
   "metadata": {},
   "outputs": [],
   "source": [
    "df['Colour'] = np.where(df.Close > df.Open, 'green', 'red')\n",
    "## .Where requires three arguments (if this, then this, else this)\n"
   ]
  },
  {
   "attachments": {},
   "cell_type": "markdown",
   "metadata": {},
   "source": [
    "## The VWAP\n",
    "\n",
    "VWAP (Volume-Weighted Average Price) over a period can be an important metric for evaluating trading activity. It is often thought of as the true average price for a stock, and is calculated using the following formula:\n",
    "\n",
    "$$ \\text{VWAP} = \\frac{\\sum_{i=1}^{n} \\text{typical price}_i \\cdot \\text{volume}_i}{\\sum_{i=1}^{n} \\text{volume}_i} $$\n",
    "\n",
    "The *typical price* for each period is calculated as:\n",
    "\n",
    "$$ \\text{typical price}_i = \\frac{\\text{high}_i + \\text{low}_i + \\text{close}_i}{3} $$\n",
    "\n",
    "We can calculate VWAP with the help of the `np.dot()` function. This performs a dot product, which will multiply corresponding elements in the price and volume columns and then find the sum. Let's calculate the VWAP for our stock over this period, which will give us an indication of the price at which the bulk of trading took place.\n"
   ]
  },
  {
   "cell_type": "code",
   "execution_count": null,
   "metadata": {},
   "outputs": [],
   "source": [
    "df['TP'] = (df.High + df.Low + df.Close) / 3\n",
    "## Important to always define\n",
    "vwap = np.dot(df.TP, df.Volume) / np.sum(df.Volume)\n",
    "##Derived from the formula VWAP = sum of (typical price * Volume) / sum of Volume"
   ]
  },
  {
   "attachments": {},
   "cell_type": "markdown",
   "metadata": {},
   "source": [
    "There is more to NumPy that we'll explore over the next days, and even more that we won't get a chance to use."
   ]
  }
 ],
 "metadata": {
  "kernelspec": {
   "display_name": "Python 3",
   "language": "python",
   "name": "python3"
  },
  "language_info": {
   "codemirror_mode": {
    "name": "ipython",
    "version": 3
   },
   "file_extension": ".py",
   "mimetype": "text/x-python",
   "name": "python",
   "nbconvert_exporter": "python",
   "pygments_lexer": "ipython3",
   "version": "3.12.1"
  }
 },
 "nbformat": 4,
 "nbformat_minor": 2
}
