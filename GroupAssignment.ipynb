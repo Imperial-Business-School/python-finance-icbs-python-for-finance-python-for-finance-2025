{
 "cells": [
  {
   "cell_type": "markdown",
   "id": "853fd0d1",
   "metadata": {},
   "source": [
    "# Data Cleaning"
   ]
  },
  {
   "cell_type": "markdown",
   "id": "e4f65c18",
   "metadata": {},
   "source": [
    "In compliance with the firm's data cleaning protocols we have performed the following actions to Door Dash's raw stock price data."
   ]
  },
  {
   "cell_type": "markdown",
   "id": "12eb9d34",
   "metadata": {},
   "source": [
    "First, we import the neccessary libraries and set the **Date** column into the correct format."
   ]
  },
  {
   "cell_type": "code",
   "execution_count": 1,
   "id": "eb6cb674",
   "metadata": {},
   "outputs": [
    {
     "ename": "FileNotFoundError",
     "evalue": "[Errno 2] No such file or directory: 'DASH_A1.csv'",
     "output_type": "error",
     "traceback": [
      "\u001b[31m---------------------------------------------------------------------------\u001b[39m",
      "\u001b[31mFileNotFoundError\u001b[39m                         Traceback (most recent call last)",
      "\u001b[36mCell\u001b[39m\u001b[36m \u001b[39m\u001b[32mIn[1]\u001b[39m\u001b[32m, line 5\u001b[39m\n\u001b[32m      2\u001b[39m \u001b[38;5;28;01mimport\u001b[39;00m\u001b[38;5;250m \u001b[39m\u001b[34;01mnumpy\u001b[39;00m\u001b[38;5;250m \u001b[39m\u001b[38;5;28;01mas\u001b[39;00m\u001b[38;5;250m \u001b[39m\u001b[34;01mnp\u001b[39;00m\n\u001b[32m      3\u001b[39m \u001b[38;5;28;01mimport\u001b[39;00m\u001b[38;5;250m \u001b[39m\u001b[34;01mmatplotlib\u001b[39;00m\u001b[34;01m.\u001b[39;00m\u001b[34;01mpyplot\u001b[39;00m\u001b[38;5;250m \u001b[39m\u001b[38;5;28;01mas\u001b[39;00m\u001b[38;5;250m \u001b[39m\u001b[34;01mplt\u001b[39;00m\n\u001b[32m----> \u001b[39m\u001b[32m5\u001b[39m df = \u001b[43mpd\u001b[49m\u001b[43m.\u001b[49m\u001b[43mread_csv\u001b[49m\u001b[43m(\u001b[49m\u001b[33;43m\"\u001b[39;49m\u001b[33;43mDASH_A1.csv\u001b[39;49m\u001b[33;43m\"\u001b[39;49m\u001b[43m)\u001b[49m\n\u001b[32m      7\u001b[39m df[\u001b[33m\"\u001b[39m\u001b[33mDate\u001b[39m\u001b[33m\"\u001b[39m] = pd.to_datetime(df.Date, dayfirst=\u001b[38;5;28;01mTrue\u001b[39;00m)\n\u001b[32m      8\u001b[39m df = df.set_index(\u001b[33m\"\u001b[39m\u001b[33mDate\u001b[39m\u001b[33m\"\u001b[39m).sort_index().drop_duplicates()\n",
      "\u001b[36mFile \u001b[39m\u001b[32m~/.local/lib/python3.12/site-packages/pandas/io/parsers/readers.py:1026\u001b[39m, in \u001b[36mread_csv\u001b[39m\u001b[34m(filepath_or_buffer, sep, delimiter, header, names, index_col, usecols, dtype, engine, converters, true_values, false_values, skipinitialspace, skiprows, skipfooter, nrows, na_values, keep_default_na, na_filter, verbose, skip_blank_lines, parse_dates, infer_datetime_format, keep_date_col, date_parser, date_format, dayfirst, cache_dates, iterator, chunksize, compression, thousands, decimal, lineterminator, quotechar, quoting, doublequote, escapechar, comment, encoding, encoding_errors, dialect, on_bad_lines, delim_whitespace, low_memory, memory_map, float_precision, storage_options, dtype_backend)\u001b[39m\n\u001b[32m   1013\u001b[39m kwds_defaults = _refine_defaults_read(\n\u001b[32m   1014\u001b[39m     dialect,\n\u001b[32m   1015\u001b[39m     delimiter,\n\u001b[32m   (...)\u001b[39m\u001b[32m   1022\u001b[39m     dtype_backend=dtype_backend,\n\u001b[32m   1023\u001b[39m )\n\u001b[32m   1024\u001b[39m kwds.update(kwds_defaults)\n\u001b[32m-> \u001b[39m\u001b[32m1026\u001b[39m \u001b[38;5;28;01mreturn\u001b[39;00m \u001b[43m_read\u001b[49m\u001b[43m(\u001b[49m\u001b[43mfilepath_or_buffer\u001b[49m\u001b[43m,\u001b[49m\u001b[43m \u001b[49m\u001b[43mkwds\u001b[49m\u001b[43m)\u001b[49m\n",
      "\u001b[36mFile \u001b[39m\u001b[32m~/.local/lib/python3.12/site-packages/pandas/io/parsers/readers.py:620\u001b[39m, in \u001b[36m_read\u001b[39m\u001b[34m(filepath_or_buffer, kwds)\u001b[39m\n\u001b[32m    617\u001b[39m _validate_names(kwds.get(\u001b[33m\"\u001b[39m\u001b[33mnames\u001b[39m\u001b[33m\"\u001b[39m, \u001b[38;5;28;01mNone\u001b[39;00m))\n\u001b[32m    619\u001b[39m \u001b[38;5;66;03m# Create the parser.\u001b[39;00m\n\u001b[32m--> \u001b[39m\u001b[32m620\u001b[39m parser = \u001b[43mTextFileReader\u001b[49m\u001b[43m(\u001b[49m\u001b[43mfilepath_or_buffer\u001b[49m\u001b[43m,\u001b[49m\u001b[43m \u001b[49m\u001b[43m*\u001b[49m\u001b[43m*\u001b[49m\u001b[43mkwds\u001b[49m\u001b[43m)\u001b[49m\n\u001b[32m    622\u001b[39m \u001b[38;5;28;01mif\u001b[39;00m chunksize \u001b[38;5;129;01mor\u001b[39;00m iterator:\n\u001b[32m    623\u001b[39m     \u001b[38;5;28;01mreturn\u001b[39;00m parser\n",
      "\u001b[36mFile \u001b[39m\u001b[32m~/.local/lib/python3.12/site-packages/pandas/io/parsers/readers.py:1620\u001b[39m, in \u001b[36mTextFileReader.__init__\u001b[39m\u001b[34m(self, f, engine, **kwds)\u001b[39m\n\u001b[32m   1617\u001b[39m     \u001b[38;5;28mself\u001b[39m.options[\u001b[33m\"\u001b[39m\u001b[33mhas_index_names\u001b[39m\u001b[33m\"\u001b[39m] = kwds[\u001b[33m\"\u001b[39m\u001b[33mhas_index_names\u001b[39m\u001b[33m\"\u001b[39m]\n\u001b[32m   1619\u001b[39m \u001b[38;5;28mself\u001b[39m.handles: IOHandles | \u001b[38;5;28;01mNone\u001b[39;00m = \u001b[38;5;28;01mNone\u001b[39;00m\n\u001b[32m-> \u001b[39m\u001b[32m1620\u001b[39m \u001b[38;5;28mself\u001b[39m._engine = \u001b[38;5;28;43mself\u001b[39;49m\u001b[43m.\u001b[49m\u001b[43m_make_engine\u001b[49m\u001b[43m(\u001b[49m\u001b[43mf\u001b[49m\u001b[43m,\u001b[49m\u001b[43m \u001b[49m\u001b[38;5;28;43mself\u001b[39;49m\u001b[43m.\u001b[49m\u001b[43mengine\u001b[49m\u001b[43m)\u001b[49m\n",
      "\u001b[36mFile \u001b[39m\u001b[32m~/.local/lib/python3.12/site-packages/pandas/io/parsers/readers.py:1880\u001b[39m, in \u001b[36mTextFileReader._make_engine\u001b[39m\u001b[34m(self, f, engine)\u001b[39m\n\u001b[32m   1878\u001b[39m     \u001b[38;5;28;01mif\u001b[39;00m \u001b[33m\"\u001b[39m\u001b[33mb\u001b[39m\u001b[33m\"\u001b[39m \u001b[38;5;129;01mnot\u001b[39;00m \u001b[38;5;129;01min\u001b[39;00m mode:\n\u001b[32m   1879\u001b[39m         mode += \u001b[33m\"\u001b[39m\u001b[33mb\u001b[39m\u001b[33m\"\u001b[39m\n\u001b[32m-> \u001b[39m\u001b[32m1880\u001b[39m \u001b[38;5;28mself\u001b[39m.handles = \u001b[43mget_handle\u001b[49m\u001b[43m(\u001b[49m\n\u001b[32m   1881\u001b[39m \u001b[43m    \u001b[49m\u001b[43mf\u001b[49m\u001b[43m,\u001b[49m\n\u001b[32m   1882\u001b[39m \u001b[43m    \u001b[49m\u001b[43mmode\u001b[49m\u001b[43m,\u001b[49m\n\u001b[32m   1883\u001b[39m \u001b[43m    \u001b[49m\u001b[43mencoding\u001b[49m\u001b[43m=\u001b[49m\u001b[38;5;28;43mself\u001b[39;49m\u001b[43m.\u001b[49m\u001b[43moptions\u001b[49m\u001b[43m.\u001b[49m\u001b[43mget\u001b[49m\u001b[43m(\u001b[49m\u001b[33;43m\"\u001b[39;49m\u001b[33;43mencoding\u001b[39;49m\u001b[33;43m\"\u001b[39;49m\u001b[43m,\u001b[49m\u001b[43m \u001b[49m\u001b[38;5;28;43;01mNone\u001b[39;49;00m\u001b[43m)\u001b[49m\u001b[43m,\u001b[49m\n\u001b[32m   1884\u001b[39m \u001b[43m    \u001b[49m\u001b[43mcompression\u001b[49m\u001b[43m=\u001b[49m\u001b[38;5;28;43mself\u001b[39;49m\u001b[43m.\u001b[49m\u001b[43moptions\u001b[49m\u001b[43m.\u001b[49m\u001b[43mget\u001b[49m\u001b[43m(\u001b[49m\u001b[33;43m\"\u001b[39;49m\u001b[33;43mcompression\u001b[39;49m\u001b[33;43m\"\u001b[39;49m\u001b[43m,\u001b[49m\u001b[43m \u001b[49m\u001b[38;5;28;43;01mNone\u001b[39;49;00m\u001b[43m)\u001b[49m\u001b[43m,\u001b[49m\n\u001b[32m   1885\u001b[39m \u001b[43m    \u001b[49m\u001b[43mmemory_map\u001b[49m\u001b[43m=\u001b[49m\u001b[38;5;28;43mself\u001b[39;49m\u001b[43m.\u001b[49m\u001b[43moptions\u001b[49m\u001b[43m.\u001b[49m\u001b[43mget\u001b[49m\u001b[43m(\u001b[49m\u001b[33;43m\"\u001b[39;49m\u001b[33;43mmemory_map\u001b[39;49m\u001b[33;43m\"\u001b[39;49m\u001b[43m,\u001b[49m\u001b[43m \u001b[49m\u001b[38;5;28;43;01mFalse\u001b[39;49;00m\u001b[43m)\u001b[49m\u001b[43m,\u001b[49m\n\u001b[32m   1886\u001b[39m \u001b[43m    \u001b[49m\u001b[43mis_text\u001b[49m\u001b[43m=\u001b[49m\u001b[43mis_text\u001b[49m\u001b[43m,\u001b[49m\n\u001b[32m   1887\u001b[39m \u001b[43m    \u001b[49m\u001b[43merrors\u001b[49m\u001b[43m=\u001b[49m\u001b[38;5;28;43mself\u001b[39;49m\u001b[43m.\u001b[49m\u001b[43moptions\u001b[49m\u001b[43m.\u001b[49m\u001b[43mget\u001b[49m\u001b[43m(\u001b[49m\u001b[33;43m\"\u001b[39;49m\u001b[33;43mencoding_errors\u001b[39;49m\u001b[33;43m\"\u001b[39;49m\u001b[43m,\u001b[49m\u001b[43m \u001b[49m\u001b[33;43m\"\u001b[39;49m\u001b[33;43mstrict\u001b[39;49m\u001b[33;43m\"\u001b[39;49m\u001b[43m)\u001b[49m\u001b[43m,\u001b[49m\n\u001b[32m   1888\u001b[39m \u001b[43m    \u001b[49m\u001b[43mstorage_options\u001b[49m\u001b[43m=\u001b[49m\u001b[38;5;28;43mself\u001b[39;49m\u001b[43m.\u001b[49m\u001b[43moptions\u001b[49m\u001b[43m.\u001b[49m\u001b[43mget\u001b[49m\u001b[43m(\u001b[49m\u001b[33;43m\"\u001b[39;49m\u001b[33;43mstorage_options\u001b[39;49m\u001b[33;43m\"\u001b[39;49m\u001b[43m,\u001b[49m\u001b[43m \u001b[49m\u001b[38;5;28;43;01mNone\u001b[39;49;00m\u001b[43m)\u001b[49m\u001b[43m,\u001b[49m\n\u001b[32m   1889\u001b[39m \u001b[43m\u001b[49m\u001b[43m)\u001b[49m\n\u001b[32m   1890\u001b[39m \u001b[38;5;28;01massert\u001b[39;00m \u001b[38;5;28mself\u001b[39m.handles \u001b[38;5;129;01mis\u001b[39;00m \u001b[38;5;129;01mnot\u001b[39;00m \u001b[38;5;28;01mNone\u001b[39;00m\n\u001b[32m   1891\u001b[39m f = \u001b[38;5;28mself\u001b[39m.handles.handle\n",
      "\u001b[36mFile \u001b[39m\u001b[32m~/.local/lib/python3.12/site-packages/pandas/io/common.py:873\u001b[39m, in \u001b[36mget_handle\u001b[39m\u001b[34m(path_or_buf, mode, encoding, compression, memory_map, is_text, errors, storage_options)\u001b[39m\n\u001b[32m    868\u001b[39m \u001b[38;5;28;01melif\u001b[39;00m \u001b[38;5;28misinstance\u001b[39m(handle, \u001b[38;5;28mstr\u001b[39m):\n\u001b[32m    869\u001b[39m     \u001b[38;5;66;03m# Check whether the filename is to be opened in binary mode.\u001b[39;00m\n\u001b[32m    870\u001b[39m     \u001b[38;5;66;03m# Binary mode does not support 'encoding' and 'newline'.\u001b[39;00m\n\u001b[32m    871\u001b[39m     \u001b[38;5;28;01mif\u001b[39;00m ioargs.encoding \u001b[38;5;129;01mand\u001b[39;00m \u001b[33m\"\u001b[39m\u001b[33mb\u001b[39m\u001b[33m\"\u001b[39m \u001b[38;5;129;01mnot\u001b[39;00m \u001b[38;5;129;01min\u001b[39;00m ioargs.mode:\n\u001b[32m    872\u001b[39m         \u001b[38;5;66;03m# Encoding\u001b[39;00m\n\u001b[32m--> \u001b[39m\u001b[32m873\u001b[39m         handle = \u001b[38;5;28;43mopen\u001b[39;49m\u001b[43m(\u001b[49m\n\u001b[32m    874\u001b[39m \u001b[43m            \u001b[49m\u001b[43mhandle\u001b[49m\u001b[43m,\u001b[49m\n\u001b[32m    875\u001b[39m \u001b[43m            \u001b[49m\u001b[43mioargs\u001b[49m\u001b[43m.\u001b[49m\u001b[43mmode\u001b[49m\u001b[43m,\u001b[49m\n\u001b[32m    876\u001b[39m \u001b[43m            \u001b[49m\u001b[43mencoding\u001b[49m\u001b[43m=\u001b[49m\u001b[43mioargs\u001b[49m\u001b[43m.\u001b[49m\u001b[43mencoding\u001b[49m\u001b[43m,\u001b[49m\n\u001b[32m    877\u001b[39m \u001b[43m            \u001b[49m\u001b[43merrors\u001b[49m\u001b[43m=\u001b[49m\u001b[43merrors\u001b[49m\u001b[43m,\u001b[49m\n\u001b[32m    878\u001b[39m \u001b[43m            \u001b[49m\u001b[43mnewline\u001b[49m\u001b[43m=\u001b[49m\u001b[33;43m\"\u001b[39;49m\u001b[33;43m\"\u001b[39;49m\u001b[43m,\u001b[49m\n\u001b[32m    879\u001b[39m \u001b[43m        \u001b[49m\u001b[43m)\u001b[49m\n\u001b[32m    880\u001b[39m     \u001b[38;5;28;01melse\u001b[39;00m:\n\u001b[32m    881\u001b[39m         \u001b[38;5;66;03m# Binary mode\u001b[39;00m\n\u001b[32m    882\u001b[39m         handle = \u001b[38;5;28mopen\u001b[39m(handle, ioargs.mode)\n",
      "\u001b[31mFileNotFoundError\u001b[39m: [Errno 2] No such file or directory: 'DASH_A1.csv'"
     ]
    }
   ],
   "source": [
    "import pandas as pd\n",
    "import numpy as np\n",
    "import matplotlib.pyplot as plt\n",
    "\n",
    "df = pd.read_csv(\"DASH_A1.csv\")\n",
    "\n",
    "df[\"Date\"] = pd.to_datetime(df.Date, dayfirst=True)\n",
    "df = df.set_index(\"Date\").sort_index().drop_duplicates()\n"
   ]
  },
  {
   "cell_type": "markdown",
   "id": "9a856787",
   "metadata": {},
   "source": [
    "Next, we fill in missing values in the Close column using forward-fill to avoid look-ahead bias."
   ]
  },
  {
   "cell_type": "code",
   "execution_count": null,
   "id": "f2177464",
   "metadata": {},
   "outputs": [],
   "source": [
    "df.Close = df.Close.ffill()\n",
    "# We clean Close's data first because cleaning Open's data require Close's data.\n",
    "df"
   ]
  },
  {
   "cell_type": "markdown",
   "id": "ad2ea8d6",
   "metadata": {},
   "source": [
    "Moving on from the **Close** column, we fill in missing values in the Open column with the Close of the day before as an approximation, ignoring overnight trading."
   ]
  },
  {
   "cell_type": "code",
   "execution_count": null,
   "id": "46f26f12",
   "metadata": {},
   "outputs": [],
   "source": [
    "df.Open = df.Open.fillna(df.Close.shift())\n",
    "df"
   ]
  },
  {
   "cell_type": "markdown",
   "id": "38f25071",
   "metadata": {},
   "source": [
    "In order to facilitate accurate analysis of the **High** and **Low** columns, we require a close aproximation of these values when missing. Missing values in the **High** and **Low** columns are filled with the mean of the respective High or Low within that month."
   ]
  },
  {
   "cell_type": "code",
   "execution_count": null,
   "id": "b60aa5ea",
   "metadata": {},
   "outputs": [],
   "source": [
    "df[\"Month\"] = df.index.month_name()\n",
    "# Since we made the date as index, so df.index is already a DatetimeIndex, which natively supports datetime properties. Therefore, we do not use .dt when accessing datetime-related attributes from the index.\n",
    "df[\"High\"] = df[\"High\"].fillna(df.groupby(\"Month\")[\"High\"].transform(\"mean\"))\n",
    "# We use transform to make sure each row gets the mean without collapsing the DataFrame structure.\n",
    "df[\"Low\"] = df[\"Low\"].fillna(df.groupby(\"Month\")[\"Low\"].transform(\"mean\"))\n",
    "df"
   ]
  },
  {
   "cell_type": "markdown",
   "id": "98e72fe5",
   "metadata": {},
   "source": [
    "To account for the lack of trading activity, we fill in missing **Volume** data with zero when the **Open** and **Close** prices are equal. When this is not the case, we use the median value."
   ]
  },
  {
   "cell_type": "code",
   "execution_count": null,
   "id": "92358307",
   "metadata": {},
   "outputs": [],
   "source": [
    "volume_median = df[\"Volume\"].median()\n",
    "df.loc[(df[\"Open\"] == df[\"Close\"]) & (df[\"Volume\"].isnull()), \"Volume\"] = 0\n",
    "# We use loc to locate the data, and use & to insert in two conditions.\n",
    "df.loc[(df[\"Open\"] != df[\"Close\"]) & (df[\"Volume\"].isnull()), \"Volume\"] = volume_median\n",
    "df"
   ]
  },
  {
   "cell_type": "markdown",
   "id": "05ac547e",
   "metadata": {},
   "source": [
    "To verify that we have removed all duplicates and filled in missing values in accordance with the firm's standards, we perform the following."
   ]
  },
  {
   "cell_type": "code",
   "execution_count": null,
   "id": "77037f4e",
   "metadata": {},
   "outputs": [],
   "source": [
    "# Data cleaning verification\n",
    "print(\"Duplicates:\", df.duplicated().sum())\n",
    "print(\"Data is monotonically increasing:\", df.index.is_monotonic_increasing)\n",
    "print(\"Missing:\", df.isnull().sum().sum())\n",
    "df"
   ]
  },
  {
   "cell_type": "markdown",
   "id": "a2a37b69",
   "metadata": {},
   "source": [
    "# Feature Engineering"
   ]
  },
  {
   "cell_type": "markdown",
   "id": "903e9f2e",
   "metadata": {},
   "source": [
    "In this section, we perform the necessary "
   ]
  },
  {
   "cell_type": "code",
   "execution_count": null,
   "id": "fd37e1d2",
   "metadata": {},
   "outputs": [],
   "source": [
    "df[\"DailyReturns\"] = df.Close.pct_change()"
   ]
  },
  {
   "cell_type": "markdown",
   "id": "ede90977",
   "metadata": {},
   "source": [
    "2. Logarithmic Returns: Calculate the logarithmic returns using Close prices."
   ]
  },
  {
   "cell_type": "code",
   "execution_count": null,
   "id": "28e8e693",
   "metadata": {},
   "outputs": [],
   "source": [
    "df[\"PrevClose\"] = df.Close.shift() \n",
    "df[\"LogReturns\"] = np.log(df.Close / df.PrevClose)"
   ]
  },
  {
   "cell_type": "markdown",
   "id": "c04e755d",
   "metadata": {},
   "source": [
    "3. 20-Day Momentum: Calculate the 20-day momentum by subtracting the\n",
    "Close price 20 days prior from the current Close price, providing insights\n",
    "into the stock's short-term trend."
   ]
  },
  {
   "cell_type": "code",
   "execution_count": null,
   "id": "acdaec34",
   "metadata": {},
   "outputs": [],
   "source": [
    "df[\"Momentum_20\"] = df.Close - df.Close.shift(20)"
   ]
  },
  {
   "cell_type": "markdown",
   "id": "f65d3123",
   "metadata": {},
   "source": [
    "4. 20-Day Simple Moving Average: Calculate the 20-day simple moving\n",
    "average to smooth out short-term fluctuations and highlight longer-term\n",
    "trends in the Close prices."
   ]
  },
  {
   "cell_type": "code",
   "execution_count": null,
   "id": "fc844bec",
   "metadata": {},
   "outputs": [],
   "source": [
    "df[\"SMA_20\"] = df.Close.rolling(window=20).mean()"
   ]
  },
  {
   "cell_type": "markdown",
   "id": "ff1d6c22",
   "metadata": {},
   "source": [
    "5. 20-Day Rolling Volatility: Calculate the 20-day rolling volatility based on the\n",
    "standard deviation of simple daily returns to indicate the stock's risk level."
   ]
  },
  {
   "cell_type": "code",
   "execution_count": null,
   "id": "19775525",
   "metadata": {},
   "outputs": [],
   "source": [
    "df[\"Volatility_20\"] = df.DailyReturns.rolling(window=20).std()\n"
   ]
  },
  {
   "cell_type": "markdown",
   "id": "31c58c4a",
   "metadata": {},
   "source": [
    "6. Day of the Week: Identify the day of the week for each trading day."
   ]
  },
  {
   "cell_type": "code",
   "execution_count": null,
   "id": "52608ca3",
   "metadata": {},
   "outputs": [],
   "source": [
    "df[\"Day\"] = df.index.day_name()"
   ]
  },
  {
   "cell_type": "markdown",
   "id": "f2201e2c",
   "metadata": {},
   "source": [
    "7. Price Surge Identification: Identify days where the price surged, defined as\n",
    "when the daily return is more than 4 standard deviations above the mean daily\n",
    "return for the period, indicating significant price movements."
   ]
  },
  {
   "cell_type": "code",
   "execution_count": null,
   "id": "36026fe3",
   "metadata": {},
   "outputs": [],
   "source": [
    "mean_return = df[\"DailyReturns\"].mean()\n",
    "std_return = df[\"DailyReturns\"].std()\n",
    "df[\"PriceSurge\"] = df[\"DailyReturns\"] > (mean_return + 4 * std_return)"
   ]
  },
  {
   "cell_type": "markdown",
   "id": "4f5acfaf",
   "metadata": {},
   "source": [
    "8. Volume Spike Identification: Identify days where the volume spiked, defined\n",
    "as when the trading volume is more than 6 standard deviations above the\n",
    "mean volume for the period, highlighting unusual trading activity."
   ]
  },
  {
   "cell_type": "code",
   "execution_count": null,
   "id": "73410d61",
   "metadata": {},
   "outputs": [],
   "source": [
    "mean_volume = df[\"Volume\"].mean()\n",
    "std_volume = df[\"Volume\"].std()\n",
    "df[\"VolumeSpike\"] = df[\"Volume\"] > (mean_volume + 6 * std_volume)"
   ]
  },
  {
   "cell_type": "markdown",
   "id": "3cf32e4f",
   "metadata": {},
   "source": [
    "9. Bollinger Bands Calculation: Calculate the upper and lower Bollinger Bands\n",
    "for the stock, which are set at 2 standard deviations above and below the 20-\n",
    "day simple moving average, to identify overbought and oversold conditions."
   ]
  },
  {
   "cell_type": "code",
   "execution_count": null,
   "id": "c68efe78",
   "metadata": {},
   "outputs": [],
   "source": [
    "df[\"SMA_20\"] = df[\"Close\"].rolling(window=20).mean()\n",
    "df[\"Dev\"] = df[\"Close\"].rolling(window=20).std()\n",
    "\n",
    "df[\"HighBand\"] = df.SMA_20 + 2 * df.Dev\n",
    "df[\"LowBand\"] = df.SMA_20 - 2 * df.Dev"
   ]
  },
  {
   "cell_type": "markdown",
   "id": "35a3a544",
   "metadata": {},
   "source": [
    "## Key Dates"
   ]
  },
  {
   "cell_type": "markdown",
   "id": "3dfd761a",
   "metadata": {},
   "source": [
    "# Data Visualisation"
   ]
  },
  {
   "cell_type": "markdown",
   "id": "fd0ce148",
   "metadata": {},
   "source": [
    "1. Plot the close prices along with the simple moving average line and Bollinger Bands.\n",
    "Volume and volatility should be presented in subplots under the main plot, which all share an x-axis.\n",
    "\n"
   ]
  },
  {
   "cell_type": "code",
   "execution_count": null,
   "id": "42f8af0b",
   "metadata": {},
   "outputs": [],
   "source": [
    "plt.style.use(\"ggplot\")\n",
    "\n",
    "fig, (ax1, ax2, ax3) = plt.subplots(nrows=3, figsize=(15,10), gridspec_kw={\"height_ratios\": [3, 1, 1]})\n",
    "fig.subplots_adjust(hspace=0.3)\n",
    "\n",
    "ax1.set_title(\"Bollinger on NASH\")\n",
    "ax1.set_ylabel(\"USD\")\n",
    "ax1.plot(df.Close, label = \"Closing Price\", color = \"blue\")\n",
    "ax1.plot(df.SMA_20, label=\"20-day SMA\", color = \"red\", linestyle =\"--\")\n",
    "ax1.plot(df.HighBand, color=\"grey\", linestyle =\":\")\n",
    "ax1.plot(df.LowBand, color=\"grey\", linestyle =\":\")\n",
    "ax1.fill_between(df.index, df.HighBand, df.LowBand, color = \"grey\", alpha=0.3)\n",
    "ax1.legend()\n",
    "\n",
    "ax2.bar(df.index, df[\"Volume\"], label=\"Volume\", color=\"grey\")\n",
    "ax2.set_ylabel(\"Volume\")\n",
    "\n",
    "ax3.plot(df.Volatility_20, label=\"20-day Volatility\", color=\"purple\")\n",
    "ax3.set_ylabel(\"Volatility\")\n",
    "ax3.set_title('20-Day Rolling Volatility')\n",
    "ax3.set_xlabel(\"Date\")\n",
    "\n",
    "plt.tight_layout()"
   ]
  },
  {
   "cell_type": "markdown",
   "id": "bea90c6f",
   "metadata": {},
   "source": [
    "2. Plot a histogram of log returns."
   ]
  },
  {
   "cell_type": "code",
   "execution_count": null,
   "id": "76f0b3b7",
   "metadata": {},
   "outputs": [],
   "source": [
    "recommended_bins = int(np.sqrt(len(df.LogReturns)))\n",
    "plt.figure(figsize=(10, 5))\n",
    "plt.hist(df.LogReturns, bins=recommended_bins, color=\"skyblue\", edgecolor=\"black\")\n",
    "\n",
    "plt.title(\"Histogram of Log Returns\")\n",
    "plt.xlabel(\"Simple Log Returns\")\n",
    "plt.ylabel(\"Frequency\")\n",
    "plt.show()"
   ]
  },
  {
   "cell_type": "markdown",
   "id": "ef19fe1e",
   "metadata": {},
   "source": [
    "3. Construct a scatter plot to explore the relationship between volume and daily returns."
   ]
  },
  {
   "cell_type": "code",
   "execution_count": null,
   "id": "6c78517d",
   "metadata": {},
   "outputs": [],
   "source": [
    "plt.figure(figsize=(10, 6))\n",
    "plt.scatter(df.DailyReturns, df.Volume)\n",
    "plt.title(\"Volume vs Daily Returns\")\n",
    "plt.ylabel(\"Trading Volume (Hundreds of Millions USD)\")\n",
    "plt.xlabel(\"Simple Daily Returns\")\n",
    "plt.show()"
   ]
  },
  {
   "cell_type": "markdown",
   "id": "230cc793",
   "metadata": {},
   "source": [
    "# Reporting"
   ]
  },
  {
   "cell_type": "markdown",
   "id": "62a96bcd",
   "metadata": {},
   "source": [
    "A: According to the histogram of log returns, the data is centered around zero, indicating that the losses and gains are all small. It has s"
   ]
  }
 ],
 "metadata": {
  "kernelspec": {
   "display_name": "Python 3",
   "language": "python",
   "name": "python3"
  },
  "language_info": {
   "codemirror_mode": {
    "name": "ipython",
    "version": 3
   },
   "file_extension": ".py",
   "mimetype": "text/x-python",
   "name": "python",
   "nbconvert_exporter": "python",
   "pygments_lexer": "ipython3",
   "version": "3.12.1"
  }
 },
 "nbformat": 4,
 "nbformat_minor": 5
}
