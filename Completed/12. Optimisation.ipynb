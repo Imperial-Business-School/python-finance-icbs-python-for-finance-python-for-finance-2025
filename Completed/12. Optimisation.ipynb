{
 "cells": [
  {
   "attachments": {},
   "cell_type": "markdown",
   "metadata": {},
   "source": [
    "# Portfolio Optimisation\n",
    "\n",
    "A 1/N portfolio with equal weights is amongst portfolio formation strategies like naive diversification, where we select assets because they differ in kind, industry or something else. With this strategy we don't look closely at return or risk, but rather depend on the diversity of our assets.\n",
    "\n",
    "Other formation strategies do analyse return and risk, and attempt to optimise weights based on some criteria. Portfolio optimisation involves determining the best allocation of our assets to achieve some specific investment objective. Let's optimise our portfolio weights and see what it can do!\n"
   ]
  },
  {
   "cell_type": "code",
   "execution_count": 23,
   "metadata": {},
   "outputs": [],
   "source": [
    "import pandas as pd\n",
    "import numpy as np\n",
    "import matplotlib.pyplot as plt\n",
    "from scipy.optimize import minimize\n",
    "\n",
    "plt.style.use(\"ggplot\")\n",
    "\n",
    "RFR = 0.0441\n",
    "TRADING_DAYS = 252"
   ]
  },
  {
   "attachments": {},
   "cell_type": "markdown",
   "metadata": {},
   "source": [
    "Above we've got our imports, settings and a constant, and below we've got our data frame being created and checked. We're also selecting the 5 stocks of our portfolio again."
   ]
  },
  {
   "cell_type": "code",
   "execution_count": 24,
   "metadata": {},
   "outputs": [],
   "source": [
    "df = pd.read_csv(\"data/top_six_2020_2025.csv\")\n",
    "df.DlyCalDt = pd.to_datetime(df.DlyCalDt, dayfirst=True)\n",
    "\n",
    "df_pivot = df.pivot(index=\"DlyCalDt\", columns=\"Ticker\", values=\"DlyClose\")\n",
    "df_pivot = df_pivot[df_pivot.columns[:5]]\n",
    "\n",
    "returns = df_pivot.pct_change().dropna()\n",
    "\n",
    "df_pivot"
   ]
  },
  {
   "attachments": {},
   "cell_type": "markdown",
   "metadata": {},
   "source": [
    "## Lambdas and Comprehensions\n",
    "\n",
    "Before we get into optimisation, there are two constructs you'll need to know within Python. These are used all over the language (and in other programming languages as well).\n",
    "\n",
    "First up we've got `lambda`, or anonymous, functions. If you're in need of a function but don't want to spend time writing one, a lambda function is for you."
   ]
  },
  {
   "cell_type": "code",
   "execution_count": 25,
   "metadata": {},
   "outputs": [],
   "source": [
    "# We can assign them to variables\n",
    "hello = lambda x: print(\"Hello\", x)\n",
    "hello(\"World\")\n",
    "\n",
    "# but we can pass them as arguments if we want\n",
    "returns.apply(lambda x: x * 100) # percentage returns !"
   ]
  },
  {
   "attachments": {},
   "cell_type": "markdown",
   "metadata": {},
   "source": [
    "Next is **comprehensions**. If lambdas are one-line functions then comprehensions are one-line for loops.\n"
   ]
  },
  {
   "cell_type": "code",
   "execution_count": 26,
   "metadata": {},
   "outputs": [],
   "source": [
    "[print(\"Hello World\") for x in range(3)]\n",
    "\n",
    "# Let's square some numbers\n",
    "nums = [1, 2, 3, 4]\n",
    "[num ** 2 for num in nums]"
   ]
  },
  {
   "attachments": {},
   "cell_type": "markdown",
   "metadata": {},
   "source": [
    "## Optimise with SciPy\n",
    "\n",
    "SciPy is a computational library for Python that goes beyond NumPy by adding lots of useful functions for scientific fields. One of the useful functions it has is called `minimize()`, which is used for solving optimisation problems across STEM. This function attempts to minimise some value given a set of input values. In our case, we will be trying to minimise the negative Sharpe Ratio (or maximising the Sharpe Ratio if you prefer!) by finding the optimal portfolio weights.\n",
    "\n",
    "Recall that Sharpe Ratio is a measure of risk-adjusted return. The higher the value, the higher return we get for the risk we put in.\n",
    "\n",
    "To work with `minimize()` we need a function. So let's define a function to calculate the negative Sharpe Ratio. It should accept weights as an argument, since this is the parameter we'll be optimising to get the Sharpe Ratio higher."
   ]
  },
  {
   "cell_type": "code",
   "execution_count": 27,
   "metadata": {},
   "outputs": [],
   "source": [
    "def negative_sharpe(weights):\n",
    "    portfolio_returns = np.dot(returns, weights)\n",
    "    annualised_returns = portfolio_returns.mean() * TRADING_DAYS\n",
    "    annualised_volatility = portfolio_returns.std() * np.sqrt(TRADING_DAYS)\n",
    "\n",
    "    sharpe_ratio = (annualised_returns - RFR) / annualised_volatility\n",
    "\n",
    "    return -sharpe_ratio"
   ]
  },
  {
   "attachments": {},
   "cell_type": "markdown",
   "metadata": {},
   "source": [
    "Then we need to define the **bounds** and **constraints**, and the *intial weights*.\n",
    "\n",
    "The bounds restrict the values that `minimize()` will attempt to use for individual inputs (weights in our case). We'll need five weights, and weights should be greater than or equal to 0 and less than or equal to 1.\n",
    "\n",
    "The constraints restrict the possible solutions that `minimize()` can return. For example, in our solution, all the weights must sum to 1.0, such that our portfolio is complete. \n",
    "\n",
    "For the initial weights we'll start with a 1/N portfolio."
   ]
  },
  {
   "cell_type": "code",
   "execution_count": 28,
   "metadata": {},
   "outputs": [],
   "source": [
    "# Constraints\n",
    "cons = {\"type\": \"eq\", \"fun\": lambda x: sum(x) - 1}\n",
    "\n",
    "# Bounds\n",
    "bounds = tuple((0, 1) for x in range(5))\n",
    "\n",
    "# Weights\n",
    "init_weights = np.ones(5) / 5\n",
    "\n",
    "optimal = minimize(negative_sharpe, init_weights, bounds=bounds, constraints=cons)\n",
    "optimal_weights = optimal.x\n",
    "optimal_weights"
   ]
  },
  {
   "attachments": {},
   "cell_type": "markdown",
   "metadata": {},
   "source": [
    "## Backtesting Optimal Weights\n",
    "\n",
    "We now have the weights that maximise the Sharpe Ratio. Let's use these weights to see how our portfolio would have performed historically.\n",
    "\n",
    "### Exercise: Watch your back\n",
    "\n",
    "Use the `optimal_weights` to calculate new portfolio returns, and daily volatility. How do these annualised values compare to the 1/N portfolio we started with?"
   ]
  },
  {
   "cell_type": "code",
   "execution_count": 29,
   "metadata": {},
   "outputs": [],
   "source": [
    "## YOUR CODE GOES HERE"
   ]
  },
  {
   "attachments": {},
   "cell_type": "markdown",
   "metadata": {},
   "source": [
    "Next, plot the optimal weight portfolio cumulative returns and the initial equal weight cumulative returns together on a plot to see how we did compared to the benchmark."
   ]
  },
  {
   "cell_type": "code",
   "execution_count": null,
   "metadata": {},
   "outputs": [],
   "source": [
    "## YOUR CODE GOES HERE"
   ]
  }
 ],
 "metadata": {
  "kernelspec": {
   "display_name": ".venv",
   "language": "python",
   "name": "python3"
  },
  "language_info": {
   "codemirror_mode": {
    "name": "ipython",
    "version": 3
   },
   "file_extension": ".py",
   "mimetype": "text/x-python",
   "name": "python",
   "nbconvert_exporter": "python",
   "pygments_lexer": "ipython3",
   "version": "3.13.2"
  }
 },
 "nbformat": 4,
 "nbformat_minor": 2
}
