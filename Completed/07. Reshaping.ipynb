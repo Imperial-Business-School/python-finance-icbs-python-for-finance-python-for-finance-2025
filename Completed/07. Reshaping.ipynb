{
 "cells": [
  {
   "attachments": {},
   "cell_type": "markdown",
   "metadata": {},
   "source": [
    "# Reshaping\n",
    "\n",
    "We've now seen some of the benefits of panel data, and how we can take advantage of pandas to manipulate it and get some insights. Sometimes though we'll need to reshape our data to work with it more easily."
   ]
  },
  {
   "cell_type": "code",
   "execution_count": 66,
   "metadata": {},
   "outputs": [],
   "source": [
    "import pandas as pd\n",
    "import numpy as np\n",
    "\n",
    "# Load the data\n",
    "df = pd.read_csv(\"data/sp500_q1_2025.csv\")\n",
    "\n",
    "# Convert 'datadate' to datetime\n",
    "df.DlyCalDt = pd.to_datetime(df.DlyCalDt)\n",
    "\n",
    "# Data cleaning as we did previously\n",
    "df.dropna(inplace=True)\n",
    "\n",
    "print(\"Missing data after cleaning\", df.isnull().sum().sum())\n",
    "\n",
    "# Handling duplicates\n",
    "print(\"Checking for duplicates, which we forgot to do previously!\", df.duplicated().sum())\n",
    "\n",
    "df.drop_duplicates(inplace=True)\n"
   ]
  },
  {
   "attachments": {},
   "cell_type": "markdown",
   "metadata": {},
   "source": [
    "## Pivot\n",
    "\n",
    "`pivot` helps us reshape *long* panel data into a *wide* data frame. We can use it to have each stock in a separate column and dates in the rows. We can only have one column substituted in as the values of the data frame, so choose carefully."
   ]
  },
  {
   "cell_type": "code",
   "execution_count": 67,
   "metadata": {},
   "outputs": [],
   "source": [
    "# Pivot table with closing prices\n",
    "pivot_df = df.pivot(index='DlyCalDt', columns='SecurityNm', values='DlyClose')\n",
    "\n",
    "# Notice that we have time series data again!\n",
    "pivot_df.loc[\"2025-02\"]"
   ]
  },
  {
   "cell_type": "code",
   "execution_count": 68,
   "metadata": {},
   "outputs": [],
   "source": [
    "# Also notice that our data is now missing values...\n",
    "print(\"Pivoting causes some missing values\", pivot_df.isnull().sum().sum())\n",
    "\n",
    "# Let's find our missing values\n",
    "missing = pivot_df.isnull().sum()\n",
    "missing[missing > 0]\n",
    "\n",
    "# McCormick & Co. only has a single missing value - let's forward fill that\n",
    "pivot_df[\"MCCORMICK & CO INC; COM V; CONS\"] = pivot_df[\"MCCORMICK & CO INC; COM V; CONS\"].ffill()\n",
    "\n",
    "# Other securities had significant missing data, so let's drop them\n",
    "# Missing values have changed, so re-determine them and store\n",
    "missing = pivot_df.isnull().sum()\n",
    "to_drop = missing[missing > 0].index\n",
    "\n",
    "# Drop those columns\n",
    "pivot_df = pivot_df.drop(columns=to_drop)\n",
    "\n",
    "print(\"After cleaning missing values\", pivot_df.isnull().sum().sum())\n",
    "\n",
    "\n",
    "# # Or a less precise method\n",
    "# pivot_df = pivot_df.dropna(axis=1)"
   ]
  },
  {
   "attachments": {},
   "cell_type": "markdown",
   "metadata": {},
   "source": [
    "We generally favour returns over close prices, as they give us a better picture of relative performance. Because our data frame is only holding close prices, it is straightforward to calculate returns."
   ]
  },
  {
   "cell_type": "code",
   "execution_count": 69,
   "metadata": {},
   "outputs": [],
   "source": [
    "# Daily returns\n",
    "pivot_df.pct_change()\n",
    "\n",
    "# Mean daily return of each stock\n",
    "pivot_df.pct_change().mean()\n",
    "\n",
    "# For log returns, just use the pivoted df in np.log()\n",
    "np.log(pivot_df).diff()"
   ]
  },
  {
   "attachments": {},
   "cell_type": "markdown",
   "metadata": {},
   "source": [
    "The other really neat thing we can do with this kind of pivoted dataframe is visualise correlations with ease."
   ]
  },
  {
   "cell_type": "code",
   "execution_count": 70,
   "metadata": {},
   "outputs": [],
   "source": [
    "pivot_df.pct_change().corr()"
   ]
  },
  {
   "attachments": {},
   "cell_type": "markdown",
   "metadata": {},
   "source": [
    "### Exercise: Trading Top Ten\n",
    "\n",
    "Pivot our panel data, this time using trading volume `DlyVol` for values. Find the max trading volume for each stock and display the top 10."
   ]
  },
  {
   "cell_type": "code",
   "execution_count": 71,
   "metadata": {},
   "outputs": [],
   "source": [
    "## YOUR CODE GOES HERE"
   ]
  },
  {
   "attachments": {},
   "cell_type": "markdown",
   "metadata": {},
   "source": [
    "## Resample\n",
    "\n",
    "The other kind of reshaping we can do is called *resampling*, which we use to change the frequency of our data. When we resample, we are generally expected to do some aggregation (but we don't have to). Let's resample our pivoted data to get the mean closing price for each month."
   ]
  },
  {
   "cell_type": "code",
   "execution_count": 72,
   "metadata": {},
   "outputs": [],
   "source": [
    "pivot_df.resample(\"ME\").mean()\n",
    "\n",
    "# Without aggregation\n",
    "pivot_df.resample(\"ME\").asfreq()"
   ]
  },
  {
   "attachments": {},
   "cell_type": "markdown",
   "metadata": {},
   "source": [
    "We can use `resample()` to help us calculate returns for different periods. When we calculated daily returns we took the last price on the day and the last price on the day before.\n",
    "\n",
    "For other periods we apply the same thinking. For monthly returns, for example, we take the last price of the month and the last price of the month before. We'll need `last()` to make it work."
   ]
  },
  {
   "cell_type": "code",
   "execution_count": 73,
   "metadata": {},
   "outputs": [],
   "source": [
    "# Chaining methods for monthly returns\n",
    "pivot_df.resample(\"ME\").last().pct_change()"
   ]
  },
  {
   "attachments": {},
   "cell_type": "markdown",
   "metadata": {},
   "source": [
    "There are many possibilities for resampling, here are a few:\n",
    "\n",
    "- **W** - Weekly\n",
    "- **D** - Daily (calendar days)\n",
    "- **QE** - Quarterly (quarter end)\n",
    "- **YE** - Annually"
   ]
  },
  {
   "attachments": {},
   "cell_type": "markdown",
   "metadata": {},
   "source": [
    "### Exercise: Losing Days\n",
    "\n",
    "Resample your *trading volume* pivot df to calendar days. Do you need to do some cleaning? What do you propose?"
   ]
  },
  {
   "cell_type": "code",
   "execution_count": 74,
   "metadata": {},
   "outputs": [],
   "source": [
    "## YOUR CODE GOES HERE"
   ]
  }
 ],
 "metadata": {
  "kernelspec": {
   "display_name": ".venv",
   "language": "python",
   "name": "python3"
  },
  "language_info": {
   "codemirror_mode": {
    "name": "ipython",
    "version": 3
   },
   "file_extension": ".py",
   "mimetype": "text/x-python",
   "name": "python",
   "nbconvert_exporter": "python",
   "pygments_lexer": "ipython3",
   "version": "3.13.2"
  }
 },
 "nbformat": 4,
 "nbformat_minor": 2
}
